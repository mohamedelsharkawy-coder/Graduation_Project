{
 "cells": [
  {
   "cell_type": "raw",
   "id": "f3601568-b652-4e6f-a846-c678db87d899",
   "metadata": {},
   "source": [
    "- sklearn_metrics --> not accept onehotencoder [1,0,0,0] --> [0] --> class A  \n",
    "- except roc_auc_score :\n",
    "    - simple value in 1st number and onehot encoder of probabiity in the 2nd parameter \n",
    "    - all the probablity must have the sum 1\n",
    "    - which is not the output of the softmax activation function\n",
    "    - so we calcualte it with the built in AUC function in the tensorflow "
   ]
  },
  {
   "cell_type": "code",
   "execution_count": 1,
   "id": "375fc849-b907-4cee-bb99-50e3ca4ee135",
   "metadata": {},
   "outputs": [
    {
     "name": "stdout",
     "output_type": "stream",
     "text": [
      "1/1 [==============================] - 5s 5s/step\n",
      "<class 'dict'>\n"
     ]
    }
   ],
   "source": [
    "import os \n",
    "import cv2 \n",
    "import matplotlib.pyplot as plt \n",
    "from keras.preprocessing.image import ImageDataGenerator\n",
    "from keras.models import load_model\n",
    "import numpy as np \n",
    "from sklearn.metrics import balanced_accuracy_score, accuracy_score, confusion_matrix, ConfusionMatrixDisplay, recall_score, precision_score, f1_score, roc_auc_score, RocCurveDisplay, classification_report\n",
    "import pandas as pd\n",
    "from predict import predict"
   ]
  },
  {
   "cell_type": "code",
   "execution_count": 18,
   "id": "ffd1d439-6561-40a6-b124-d6f7dbe11abe",
   "metadata": {},
   "outputs": [
    {
     "name": "stdout",
     "output_type": "stream",
     "text": [
      "Found 1000 images belonging to 4 classes.\n"
     ]
    }
   ],
   "source": [
    "# prepare our data \n",
    "test_path = os.path.join(\"test\")\n",
    "test_generator_object = ImageDataGenerator(rescale=1/255)\n",
    "test_generator = test_generator_object.flow_from_directory(test_path, shuffle=True) # keep the default values "
   ]
  },
  {
   "cell_type": "code",
   "execution_count": 19,
   "id": "92b890f0-e11a-4e61-9d1b-02152af26ff2",
   "metadata": {
    "tags": []
   },
   "outputs": [
    {
     "name": "stdout",
     "output_type": "stream",
     "text": [
      "1/1 [==============================] - 0s 355ms/step\n",
      "1/1 [==============================] - 0s 174ms/step\n",
      "1/1 [==============================] - 0s 198ms/step\n",
      "1/1 [==============================] - 0s 162ms/step\n",
      "1/1 [==============================] - 0s 165ms/step\n",
      "1/1 [==============================] - 0s 165ms/step\n",
      "1/1 [==============================] - 0s 156ms/step\n",
      "1/1 [==============================] - 0s 152ms/step\n",
      "1/1 [==============================] - 0s 167ms/step\n",
      "1/1 [==============================] - 0s 153ms/step\n",
      "1/1 [==============================] - 0s 166ms/step\n",
      "1/1 [==============================] - 0s 154ms/step\n",
      "1/1 [==============================] - 0s 158ms/step\n",
      "1/1 [==============================] - 0s 154ms/step\n",
      "1/1 [==============================] - 0s 156ms/step\n",
      "1/1 [==============================] - 0s 154ms/step\n",
      "1/1 [==============================] - 0s 177ms/step\n",
      "1/1 [==============================] - 0s 149ms/step\n",
      "1/1 [==============================] - 0s 155ms/step\n",
      "1/1 [==============================] - 0s 151ms/step\n",
      "1/1 [==============================] - 0s 145ms/step\n",
      "1/1 [==============================] - 0s 156ms/step\n",
      "1/1 [==============================] - 0s 148ms/step\n",
      "1/1 [==============================] - 0s 170ms/step\n",
      "1/1 [==============================] - 0s 153ms/step\n",
      "1/1 [==============================] - 0s 148ms/step\n",
      "1/1 [==============================] - 0s 150ms/step\n",
      "1/1 [==============================] - 0s 159ms/step\n",
      "1/1 [==============================] - 0s 150ms/step\n",
      "1/1 [==============================] - 0s 216ms/step\n",
      "1/1 [==============================] - 0s 156ms/step\n",
      "1/1 [==============================] - 0s 167ms/step\n",
      "[0, 2, 3, 2, 3, 2, 3, 3, 2, 3, 1, 3, 1, 2, 3, 2, 3, 2, 3, 2, 2, 0, 3, 0, 2, 2, 1, 0, 2, 1, 0, 2, 1, 3, 2, 3, 0, 2, 2, 3, 3, 1, 0, 3, 1, 3, 1, 2, 3, 0, 1, 2, 1, 3, 0, 2, 2, 0, 1, 0, 0, 2, 3, 0, 0, 0, 0, 0, 1, 2, 0, 1, 2, 1, 0, 2, 3, 2, 1, 0, 3, 3, 1, 3, 3, 2, 3, 1, 1, 2, 1, 2, 3, 3, 0, 3, 2, 2, 3, 2, 2, 1, 0, 1, 1, 3, 0, 2, 1, 1, 2, 1, 0, 2, 0, 0, 3, 2, 3, 0, 2, 0, 0, 2, 3, 1, 1, 0, 1, 1, 3, 0, 2, 2, 2, 0, 3, 3, 3, 1, 1, 1, 2, 1, 3, 1, 2, 0, 3, 1, 3, 2, 1, 3, 0, 2, 2, 0, 1, 2, 0, 1, 3, 2, 0, 3, 2, 0, 1, 1, 0, 2, 1, 2, 2, 0, 0, 1, 2, 3, 2, 3, 3, 2, 2, 0, 2, 1, 1, 3, 1, 2, 2, 1, 2, 1, 0, 3, 0, 1, 3, 2, 1, 1, 2, 0, 0, 3, 1, 3, 3, 3, 2, 2, 1, 3, 3, 0, 3, 0, 1, 0, 3, 3, 0, 1, 3, 2, 0, 3, 1, 0, 3, 1, 0, 2, 0, 3, 0, 2, 2, 1, 0, 2, 2, 3, 0, 2, 0, 3, 1, 1, 3, 1, 2, 3, 0, 3, 1, 2, 1, 3, 2, 0, 1, 3, 0, 2, 1, 0, 2, 1, 2, 1, 1, 2, 0, 3, 0, 0, 0, 3, 0, 0, 2, 0, 3, 0, 3, 3, 1, 0, 0, 1, 0, 2, 3, 1, 2, 1, 2, 0, 2, 0, 3, 1, 1, 3, 1, 1, 0, 2, 0, 3, 3, 3, 0, 0, 1, 3, 2, 3, 3, 2, 1, 2, 2, 1, 1, 0, 2, 2, 0, 2, 1, 2, 3, 1, 3, 3, 3, 0, 0, 2, 0, 1, 0, 2, 2, 0, 3, 0, 1, 1, 2, 1, 3, 2, 3, 3, 3, 1, 3, 3, 0, 2, 0, 3, 1, 0, 1, 3, 3, 2, 1, 3, 1, 3, 2, 3, 3, 2, 3, 3, 3, 1, 1, 2, 2, 1, 2, 0, 2, 3, 0, 3, 2, 3, 3, 2, 2, 0, 1, 1, 1, 1, 3, 2, 1, 1, 3, 0, 0, 3, 3, 1, 1, 2, 1, 1, 0, 3, 1, 2, 3, 2, 2, 3, 0, 0, 2, 3, 3, 3, 0, 1, 2, 2, 3, 1, 2, 0, 1, 0, 1, 1, 0, 2, 1, 2, 1, 1, 2, 3, 1, 0, 2, 0, 1, 1, 2, 2, 2, 2, 1, 1, 3, 3, 2, 1, 2, 0, 2, 2, 0, 0, 0, 3, 0, 2, 1, 0, 3, 0, 2, 1, 3, 0, 3, 0, 0, 2, 1, 2, 3, 3, 0, 0, 0, 1, 2, 3, 0, 3, 0, 1, 2, 1, 1, 1, 0, 0, 2, 1, 2, 1, 0, 3, 1, 1, 3, 0, 1, 3, 0, 1, 0, 2, 2, 0, 2, 3, 2, 0, 1, 3, 1, 3, 2, 0, 2, 3, 2, 2, 2, 2, 1, 3, 2, 2, 3, 0, 3, 0, 3, 0, 2, 2, 0, 2, 2, 2, 0, 1, 1, 3, 2, 2, 2, 1, 1, 1, 2, 3, 1, 1, 0, 0, 0, 2, 2, 2, 1, 0, 1, 2, 0, 3, 2, 1, 2, 1, 0, 1, 0, 1, 0, 3, 1, 1, 3, 1, 1, 3, 3, 2, 0, 3, 0, 1, 1, 2, 1, 0, 0, 3, 0, 0, 2, 1, 0, 0, 2, 1, 2, 3, 0, 2, 1, 3, 2, 2, 3, 3, 1, 3, 1, 2, 3, 2, 0, 3, 3, 3, 2, 0, 0, 0, 0, 0, 3, 2, 0, 2, 1, 3, 3, 2, 0, 3, 1, 1, 2, 1, 0, 3, 0, 2, 2, 0, 1, 3, 3, 3, 3, 3, 1, 3, 1, 3, 3, 3, 1, 1, 3, 2, 1, 3, 1, 0, 1, 1, 1, 1, 3, 2, 3, 1, 3, 0, 2, 1, 2, 2, 3, 3, 3, 1, 1, 3, 1, 3, 1, 0, 2, 3, 0, 1, 0, 2, 3, 3, 1, 0, 2, 1, 3, 3, 3, 1, 1, 1, 3, 0, 3, 0, 2, 3, 0, 0, 0, 0, 1, 2, 3, 0, 3, 1, 3, 0, 1, 0, 3, 2, 0, 0, 0, 3, 1, 3, 3, 3, 2, 2, 2, 3, 1, 3, 3, 3, 0, 0, 2, 1, 1, 2, 1, 0, 1, 1, 3, 0, 0, 3, 0, 1, 1, 2, 2, 0, 3, 0, 2, 2, 1, 1, 1, 3, 1, 0, 2, 1, 2, 0, 0, 2, 0, 1, 2, 0, 1, 2, 3, 2, 1, 1, 0, 3, 0, 2, 1, 2, 2, 1, 1, 3, 0, 3, 1, 2, 0, 2, 2, 2, 1, 2, 2, 0, 3, 0, 0, 1, 1, 1, 1, 0, 0, 2, 2, 3, 0, 0, 2, 2, 3, 2, 0, 1, 2, 2, 0, 2, 0, 1, 3, 3, 3, 1, 3, 1, 3, 1, 2, 2, 1, 1, 0, 3, 2, 2, 0, 1, 3, 0, 0, 2, 1, 0, 1, 1, 3, 1, 3, 3, 3, 3, 0, 3, 3, 3, 0, 0, 0, 2, 1, 2, 3, 1, 1, 1, 2, 1, 2, 3, 0, 2, 1, 0, 2, 1, 0, 0, 3, 0, 0, 0, 3, 2, 1, 0, 2, 0, 0, 1, 0, 2, 0, 0, 3, 1, 0, 0, 1, 1, 3, 2, 2, 3, 2, 0, 1, 1, 0, 2, 0, 0, 0, 2, 0, 2, 3, 3, 3, 3, 1, 1, 2, 2, 0, 0, 3, 2, 3, 0, 1, 0, 1, 0, 1, 1, 1, 3, 3, 0, 0, 0, 2, 3, 0, 3, 0, 3, 2, 2, 0, 0, 0, 3, 0, 3]\n",
      "[0, 2, 3, 2, 3, 2, 3, 3, 2, 3, 1, 3, 1, 2, 3, 2, 3, 2, 3, 2, 2, 0, 3, 0, 2, 2, 1, 0, 2, 1, 0, 2, 1, 3, 2, 3, 0, 2, 2, 3, 3, 1, 0, 3, 1, 3, 1, 2, 3, 0, 1, 2, 1, 3, 0, 2, 2, 0, 1, 0, 0, 2, 3, 0, 0, 0, 0, 0, 1, 2, 0, 1, 2, 1, 0, 2, 3, 2, 1, 0, 3, 3, 1, 3, 3, 2, 3, 1, 1, 2, 1, 2, 3, 3, 0, 3, 2, 2, 3, 2, 2, 1, 0, 1, 1, 3, 0, 2, 1, 1, 2, 1, 0, 2, 0, 0, 3, 2, 3, 0, 2, 0, 0, 2, 3, 1, 1, 0, 1, 1, 3, 0, 2, 2, 2, 0, 3, 3, 3, 1, 1, 1, 2, 1, 3, 1, 2, 0, 3, 1, 3, 2, 1, 3, 0, 2, 2, 0, 1, 2, 0, 1, 3, 2, 0, 3, 2, 0, 1, 1, 0, 2, 1, 2, 2, 0, 0, 1, 2, 3, 2, 3, 3, 2, 2, 0, 2, 1, 1, 3, 1, 2, 2, 1, 2, 1, 0, 3, 0, 1, 3, 2, 1, 1, 2, 0, 0, 3, 1, 3, 3, 3, 2, 2, 1, 3, 3, 0, 3, 0, 1, 0, 3, 3, 0, 1, 3, 2, 0, 3, 1, 0, 3, 1, 0, 2, 0, 3, 0, 2, 2, 1, 0, 2, 2, 3, 0, 2, 0, 3, 1, 1, 3, 1, 2, 3, 0, 3, 1, 2, 1, 3, 2, 0, 1, 3, 0, 2, 1, 0, 2, 1, 2, 1, 1, 2, 0, 3, 0, 0, 0, 3, 0, 0, 2, 0, 3, 0, 3, 3, 1, 0, 0, 1, 0, 2, 3, 1, 2, 1, 2, 0, 2, 0, 3, 1, 1, 3, 1, 1, 0, 2, 0, 3, 3, 3, 0, 0, 1, 3, 2, 3, 3, 2, 1, 2, 2, 1, 1, 0, 2, 2, 0, 2, 1, 2, 3, 1, 3, 3, 3, 0, 0, 2, 0, 1, 0, 2, 2, 0, 3, 0, 1, 1, 2, 1, 3, 2, 3, 3, 3, 1, 3, 3, 0, 2, 0, 3, 1, 0, 1, 3, 3, 2, 1, 3, 1, 3, 2, 3, 3, 2, 3, 3, 3, 1, 1, 2, 0, 1, 2, 0, 2, 3, 0, 3, 2, 3, 3, 2, 2, 0, 1, 1, 1, 1, 3, 2, 1, 1, 3, 0, 0, 3, 3, 1, 1, 2, 1, 1, 0, 3, 1, 2, 3, 2, 2, 3, 0, 0, 2, 3, 3, 3, 0, 1, 2, 2, 3, 1, 2, 0, 1, 0, 1, 1, 0, 2, 1, 2, 1, 1, 2, 3, 1, 0, 2, 0, 1, 1, 2, 2, 2, 2, 1, 1, 3, 3, 2, 1, 2, 0, 2, 2, 0, 0, 0, 3, 0, 2, 1, 0, 3, 0, 2, 1, 3, 0, 3, 0, 0, 2, 1, 2, 3, 3, 0, 0, 0, 1, 2, 3, 0, 3, 0, 1, 2, 1, 1, 1, 0, 0, 2, 1, 2, 1, 0, 3, 1, 1, 3, 0, 1, 3, 0, 1, 0, 2, 2, 0, 2, 3, 2, 0, 1, 3, 1, 3, 2, 0, 2, 3, 2, 2, 2, 2, 1, 3, 2, 2, 3, 0, 3, 0, 3, 0, 2, 2, 0, 2, 2, 2, 0, 1, 1, 3, 2, 2, 2, 1, 1, 1, 2, 3, 1, 1, 0, 0, 0, 2, 2, 2, 1, 0, 1, 2, 0, 3, 2, 1, 2, 1, 0, 1, 0, 1, 0, 3, 1, 1, 3, 1, 1, 3, 3, 2, 0, 3, 0, 1, 1, 2, 1, 0, 0, 3, 0, 0, 2, 1, 0, 0, 2, 1, 2, 3, 0, 2, 1, 3, 2, 2, 3, 3, 1, 3, 1, 2, 3, 2, 0, 3, 3, 3, 2, 0, 0, 0, 0, 0, 3, 2, 0, 2, 1, 3, 3, 2, 0, 3, 1, 1, 2, 1, 0, 3, 0, 2, 2, 0, 1, 3, 3, 3, 3, 3, 1, 3, 1, 3, 3, 3, 1, 1, 3, 2, 1, 3, 1, 0, 1, 1, 1, 1, 3, 2, 3, 1, 3, 0, 2, 1, 2, 2, 3, 3, 3, 1, 1, 3, 1, 3, 1, 0, 2, 3, 0, 1, 0, 2, 3, 3, 1, 0, 2, 1, 3, 3, 3, 1, 1, 1, 3, 0, 3, 0, 2, 3, 0, 0, 0, 0, 1, 2, 3, 0, 3, 1, 3, 0, 1, 0, 3, 2, 0, 0, 0, 3, 1, 3, 3, 3, 2, 2, 2, 3, 1, 3, 3, 3, 0, 0, 2, 1, 1, 3, 1, 0, 1, 1, 3, 0, 0, 3, 0, 1, 1, 2, 2, 0, 3, 0, 2, 2, 1, 1, 1, 3, 1, 0, 2, 1, 2, 0, 0, 2, 0, 1, 2, 0, 1, 2, 3, 2, 1, 1, 0, 3, 0, 2, 1, 2, 2, 1, 1, 3, 0, 3, 1, 2, 0, 2, 2, 2, 1, 2, 2, 0, 3, 0, 0, 1, 1, 1, 1, 0, 0, 2, 2, 3, 0, 0, 2, 2, 3, 2, 0, 1, 2, 2, 0, 2, 0, 1, 3, 3, 3, 1, 3, 1, 3, 1, 2, 2, 1, 1, 0, 3, 2, 2, 0, 1, 3, 0, 0, 2, 1, 0, 1, 1, 3, 1, 3, 3, 3, 3, 0, 3, 3, 3, 0, 0, 0, 2, 1, 2, 3, 1, 1, 1, 2, 1, 2, 3, 0, 2, 1, 0, 2, 1, 0, 0, 3, 0, 0, 0, 3, 2, 1, 0, 2, 0, 0, 1, 0, 2, 0, 0, 3, 1, 0, 0, 1, 1, 3, 2, 2, 3, 2, 0, 1, 1, 0, 2, 0, 0, 0, 2, 0, 2, 3, 3, 3, 3, 1, 1, 2, 2, 0, 0, 3, 2, 3, 0, 1, 0, 1, 0, 1, 1, 1, 3, 3, 0, 0, 0, 2, 3, 0, 3, 0, 3, 2, 2, 0, 0, 0, 3, 0, 1]\n",
      "1000\n",
      "1000\n",
      "confusion_matrix_result --> [[250   0   0   0]\n",
      " [  0 250   0   0]\n",
      " [  1   0 248   1]\n",
      " [  0   1   0 249]]\n",
      "balanced_accuracy --> 0.997\n",
      "accuracy --> 0.997\n",
      "precision --> 0.997\n",
      "recall --> 0.997\n",
      "f1_score_result --> 0.997\n"
     ]
    },
    {
     "data": {
      "text/plain": [
       "<sklearn.metrics._plot.confusion_matrix.ConfusionMatrixDisplay at 0x2118c5a3670>"
      ]
     },
     "execution_count": 19,
     "metadata": {},
     "output_type": "execute_result"
    },
    {
     "data": {
      "image/png": "[encoded data removed]",
      "text/plain": [
       "<Figure size 640x480 with 2 Axes>"
      ]
     },
     "metadata": {},
     "output_type": "display_data"
    }
   ],
   "source": [
    "all_actual_y = []\n",
    "all_predicted_y = []\n",
    "\n",
    "for i in range(len(test_generator)): \n",
    "   \n",
    "    # batch \n",
    "    images, actual_y = test_generator[i]\n",
    "    \n",
    "    # reformate the actual_y --> array of values --> convert the one hot encoder to simple values \n",
    "    actual_indeces = np.where(actual_y == 1)[1]\n",
    "    \n",
    "    # convert array to list \n",
    "    actual_indeces_list = actual_indeces.tolist()\n",
    "    \n",
    "    # loop in the list and put values in another list ouside the loop \n",
    "    for i in actual_indeces_list:\n",
    "        all_actual_y.append(i)\n",
    "\n",
    "    # load the saved trianed model \n",
    "    model = load_model(os.path.join('models','model_vgg16_unbalanced.h5'))\n",
    "    \n",
    "    # predict process \n",
    "    predicted_y = model.predict(images)\n",
    "    \n",
    "    # loop for the predicted output\n",
    "    for i in predicted_y: # here is the array of probability --> [0.1, 0.1, 0.9, 0.3]\n",
    "        if i.max() == i[0]:\n",
    "            all_predicted_y.append(0)\n",
    "        elif i.max() == i[1]:\n",
    "            all_predicted_y.append(1)\n",
    "        elif i.max() == i[2]:\n",
    "            all_predicted_y.append(2)\n",
    "        else:\n",
    "            all_predicted_y.append(3)\n",
    "\n",
    "            \n",
    "############################################################################################    \n",
    "# print values \n",
    "print(all_actual_y)\n",
    "print(all_predicted_y)\n",
    "\n",
    "# 1000 index for each image in the test dataset\n",
    "print(len(all_actual_y))   \n",
    "print(len(all_predicted_y))\n",
    "\n",
    "# confusion matrix array  \n",
    "confusion_matrix_result = confusion_matrix(all_actual_y, all_predicted_y)\n",
    "print(\"confusion_matrix_result -->\", confusion_matrix_result)\n",
    "\n",
    "# balanced accuracy score  \n",
    "balanced_accuracy = balanced_accuracy_score(all_actual_y, all_predicted_y)\n",
    "print(\"balanced_accuracy -->\", balanced_accuracy)\n",
    "\n",
    "# accuracy  \n",
    "accuracy = accuracy_score(all_actual_y, all_predicted_y)\n",
    "print(\"accuracy -->\", accuracy)\n",
    "\n",
    "# precision\n",
    "precision = precision_score(all_actual_y, all_predicted_y, average='micro')\n",
    "print(\"precision -->\", precision)\n",
    "\n",
    "# recall \n",
    "recall = recall_score(all_actual_y, all_predicted_y, average='micro')\n",
    "print(\"recall -->\", recall)\n",
    "\n",
    "# f1-score \n",
    "f1_score_result = f1_score(all_actual_y, all_predicted_y, average='micro')\n",
    "print(\"f1_score_result -->\", f1_score_result)\n",
    "\n",
    "# classication report \n",
    "# report = classification_report(all_actual_y, all_predicted_y, output_dict=True)\n",
    "# print(report)\n",
    "\n",
    "# digrams:\n",
    "\n",
    "# 1- confusion_matrix\n",
    "draw_confusion_matrix = ConfusionMatrixDisplay(confusion_matrix_result)\n",
    "draw_confusion_matrix.plot()\n",
    "\n",
    "\n",
    "\n",
    "\n",
    "\n",
    "\n",
    "\n",
    "\n",
    "\n"
   ]
  },
  {
   "cell_type": "code",
   "execution_count": 22,
   "id": "0ea74037-3a6c-4244-8465-6c0a303da910",
   "metadata": {},
   "outputs": [
    {
     "name": "stdout",
     "output_type": "stream",
     "text": [
      "1000\n",
      "250\n"
     ]
    }
   ],
   "source": [
    "l = [0, 2, 3, 2, 3, 2, 3, 3, 2, 3, 1, 3, 1, 2, 3, 2, 3, 2, 3, 2, 2, 0, 3, 0, 2, 2, 1, 0, 2, 1, 0, 2, 1, 3, 2, 3, 0, 2, 2, 3, 3, 1, 0, 3, 1, 3, 1, 2, 3, 0, 1, 2, 1, 3, 0, 2, 2, 0, 1, 0, 0, 2, 3, 0, 0, 0, 0, 0, 1, 2, 0, 1, 2, 1, 0, 2, 3, 2, 1, 0, 3, 3, 1, 3, 3, 2, 3, 1, 1, 2, 1, 2, 3, 3, 0, 3, 2, 2, 3, 2, 2, 1, 0, 1, 1, 3, 0, 2, 1, 1, 2, 1, 0, 2, 0, 0, 3, 2, 3, 0, 2, 0, 0, 2, 3, 1, 1, 0, 1, 1, 3, 0, 2, 2, 2, 0, 3, 3, 3, 1, 1, 1, 2, 1, 3, 1, 2, 0, 3, 1, 3, 2, 1, 3, 0, 2, 2, 0, 1, 2, 0, 1, 3, 2, 0, 3, 2, 0, 1, 1, 0, 2, 1, 2, 2, 0, 0, 1, 2, 3, 2, 3, 3, 2, 2, 0, 2, 1, 1, 3, 1, 2, 2, 1, 2, 1, 0, 3, 0, 1, 3, 2, 1, 1, 2, 0, 0, 3, 1, 3, 3, 3, 2, 2, 1, 3, 3, 0, 3, 0, 1, 0, 3, 3, 0, 1, 3, 2, 0, 3, 1, 0, 3, 1, 0, 2, 0, 3, 0, 2, 2, 1, 0, 2, 2, 3, 0, 2, 0, 3, 1, 1, 3, 1, 2, 3, 0, 3, 1, 2, 1, 3, 2, 0, 1, 3, 0, 2, 1, 0, 2, 1, 2, 1, 1, 2, 0, 3, 0, 0, 0, 3, 0, 0, 2, 0, 3, 0, 3, 3, 1, 0, 0, 1, 0, 2, 3, 1, 2, 1, 2, 0, 2, 0, 3, 1, 1, 3, 1, 1, 0, 2, 0, 3, 3, 3, 0, 0, 1, 3, 2, 3, 3, 2, 1, 2, 2, 1, 1, 0, 2, 2, 0, 2, 1, 2, 3, 1, 3, 3, 3, 0, 0, 2, 0, 1, 0, 2, 2, 0, 3, 0, 1, 1, 2, 1, 3, 2, 3, 3, 3, 1, 3, 3, 0, 2, 0, 3, 1, 0, 1, 3, 3, 2, 1, 3, 1, 3, 2, 3, 3, 2, 3, 3, 3, 1, 1, 2, 2, 1, 2, 0, 2, 3, 0, 3, 2, 3, 3, 2, 2, 0, 1, 1, 1, 1, 3, 2, 1, 1, 3, 0, 0, 3, 3, 1, 1, 2, 1, 1, 0, 3, 1, 2, 3, 2, 2, 3, 0, 0, 2, 3, 3, 3, 0, 1, 2, 2, 3, 1, 2, 0, 1, 0, 1, 1, 0, 2, 1, 2, 1, 1, 2, 3, 1, 0, 2, 0, 1, 1, 2, 2, 2, 2, 1, 1, 3, 3, 2, 1, 2, 0, 2, 2, 0, 0, 0, 3, 0, 2, 1, 0, 3, 0, 2, 1, 3, 0, 3, 0, 0, 2, 1, 2, 3, 3, 0, 0, 0, 1, 2, 3, 0, 3, 0, 1, 2, 1, 1, 1, 0, 0, 2, 1, 2, 1, 0, 3, 1, 1, 3, 0, 1, 3, 0, 1, 0, 2, 2, 0, 2, 3, 2, 0, 1, 3, 1, 3, 2, 0, 2, 3, 2, 2, 2, 2, 1, 3, 2, 2, 3, 0, 3, 0, 3, 0, 2, 2, 0, 2, 2, 2, 0, 1, 1, 3, 2, 2, 2, 1, 1, 1, 2, 3, 1, 1, 0, 0, 0, 2, 2, 2, 1, 0, 1, 2, 0, 3, 2, 1, 2, 1, 0, 1, 0, 1, 0, 3, 1, 1, 3, 1, 1, 3, 3, 2, 0, 3, 0, 1, 1, 2, 1, 0, 0, 3, 0, 0, 2, 1, 0, 0, 2, 1, 2, 3, 0, 2, 1, 3, 2, 2, 3, 3, 1, 3, 1, 2, 3, 2, 0, 3, 3, 3, 2, 0, 0, 0, 0, 0, 3, 2, 0, 2, 1, 3, 3, 2, 0, 3, 1, 1, 2, 1, 0, 3, 0, 2, 2, 0, 1, 3, 3, 3, 3, 3, 1, 3, 1, 3, 3, 3, 1, 1, 3, 2, 1, 3, 1, 0, 1, 1, 1, 1, 3, 2, 3, 1, 3, 0, 2, 1, 2, 2, 3, 3, 3, 1, 1, 3, 1, 3, 1, 0, 2, 3, 0, 1, 0, 2, 3, 3, 1, 0, 2, 1, 3, 3, 3, 1, 1, 1, 3, 0, 3, 0, 2, 3, 0, 0, 0, 0, 1, 2, 3, 0, 3, 1, 3, 0, 1, 0, 3, 2, 0, 0, 0, 3, 1, 3, 3, 3, 2, 2, 2, 3, 1, 3, 3, 3, 0, 0, 2, 1, 1, 2, 1, 0, 1, 1, 3, 0, 0, 3, 0, 1, 1, 2, 2, 0, 3, 0, 2, 2, 1, 1, 1, 3, 1, 0, 2, 1, 2, 0, 0, 2, 0, 1, 2, 0, 1, 2, 3, 2, 1, 1, 0, 3, 0, 2, 1, 2, 2, 1, 1, 3, 0, 3, 1, 2, 0, 2, 2, 2, 1, 2, 2, 0, 3, 0, 0, 1, 1, 1, 1, 0, 0, 2, 2, 3, 0, 0, 2, 2, 3, 2, 0, 1, 2, 2, 0, 2, 0, 1, 3, 3, 3, 1, 3, 1, 3, 1, 2, 2, 1, 1, 0, 3, 2, 2, 0, 1, 3, 0, 0, 2, 1, 0, 1, 1, 3, 1, 3, 3, 3, 3, 0, 3, 3, 3, 0, 0, 0, 2, 1, 2, 3, 1, 1, 1, 2, 1, 2, 3, 0, 2, 1, 0, 2, 1, 0, 0, 3, 0, 0, 0, 3, 2, 1, 0, 2, 0, 0, 1, 0, 2, 0, 0, 3, 1, 0, 0, 1, 1, 3, 2, 2, 3, 2, 0, 1, 1, 0, 2, 0, 0, 0, 2, 0, 2, 3, 3, 3, 3, 1, 1, 2, 2, 0, 0, 3, 2, 3, 0, 1, 0, 1, 0, 1, 1, 1, 3, 3, 0, 0, 0, 2, 3, 0, 3, 0, 3, 2, 2, 0, 0, 0, 3, 0, 3]\n",
    "print(len(l))\n",
    "count_0 = 0 \n",
    "for i in l:\n",
    "    if i == 0:\n",
    "        count_0 += 1\n",
    "\n",
    "print(count_0)\n",
    "\n"
   ]
  },
  {
   "cell_type": "code",
   "execution_count": 5,
   "id": "3e022050-1467-4a3c-932c-d6aead9b7aaa",
   "metadata": {},
   "outputs": [],
   "source": [
    "# count_differnces = 0\n",
    "# for i in range(len(all_actual_y)):\n",
    "#     if all_actual_y[i] != all_predicted_y[i]:\n",
    "#         count_differnces += 1\n",
    "\n",
    "# print(count_differnces)"
   ]
  },
  {
   "cell_type": "code",
   "execution_count": 6,
   "id": "25257acd-d3aa-4b8a-a9e8-31d5b0aed33b",
   "metadata": {},
   "outputs": [],
   "source": [
    "# a = np.array([[0,1,0,0],[1,0,0,0]])\n",
    "# print(np.where(a==1)[1])\n"
   ]
  },
  {
   "cell_type": "code",
   "execution_count": 7,
   "id": "b8018c8a-b022-41a8-b654-f4dfb9c2b622",
   "metadata": {},
   "outputs": [],
   "source": [
    "# images, actual_y = test_generator[1]\n",
    "# model = load_model(os.path.join('models','model_vgg16_unbalanced.h5'))\n",
    "# predicted_y = model.predict(images)\n",
    "\n",
    "# for i in predicted_y:\n",
    "#     if i.max() == i[0]:\n",
    "#         print(0)\n"
   ]
  },
  {
   "cell_type": "raw",
   "id": "c558146e-2963-4393-a05a-90ef3e8579ef",
   "metadata": {},
   "source": [
    "cnv --> 0\n",
    "dme --> 0\n",
    "drusen --> 2\n",
    "normal --> 1"
   ]
  },
  {
   "cell_type": "code",
   "execution_count": 8,
   "id": "6f972d37-ad01-4a5f-8b3c-d1157e107a84",
   "metadata": {
    "tags": []
   },
   "outputs": [],
   "source": [
    "# count = 0\n",
    "# loop = -1\n",
    "# drusen_folder = os.path.join(\"test\",\"drusen\")\n",
    "# for i in os.listdir(drusen_folder):\n",
    "#     loop += 1\n",
    "#     result = predict(os.path.join(\"test\",\"drusen\",i))\n",
    "#     print(\"Reuslt -->\", result)\n",
    "#     print(\"Index --> \", loop)\n",
    "#     if result != \"DRUSEN\":\n",
    "#         count += 1\n",
    "# print(count)"
   ]
  },
  {
   "cell_type": "code",
   "execution_count": 9,
   "id": "c6582bbd-f16a-469b-9393-f7ade35adce1",
   "metadata": {},
   "outputs": [],
   "source": [
    "# # here we compare the built-in and my predict function \n",
    "# for i in range(1): \n",
    "   \n",
    "#     # batch \n",
    "#     images, actual_y = test_generator[i]\n",
    "    \n",
    "#     # images we will use --> is the first 32 image\n",
    "\n",
    "#     # label for images \n",
    "#     print(\"it is the actual labels for each image -->\",actual_y)\n",
    "    \n",
    "#     # 1- built in predict \n",
    "#     # load model \n",
    "#     model = load_model(os.path.join('models','model_vgg16_unbalanced.h5'))\n",
    "#     result_built_in = model.predict(images)\n",
    "#     print(\"it is the predicted labels for each image in case of the built in predict -->\", result_built_in)\n",
    "#     print(len(result_built_in))\n",
    "    \n",
    "#     # my predict function \n",
    "#     cnv_folder = os.path.join(\"test\",\"cnv\")\n",
    "#     for i in os.listdir(cnv_folder)[0:32]:\n",
    "#         result = predict(os.path.join(\"test\",\"cnv\",i))\n",
    "#         print(\"Reuslt of my predicted method -->\", result)\n",
    "        \n",
    "    \n"
   ]
  },
  {
   "cell_type": "code",
   "execution_count": null,
   "id": "cc53864e-a89d-447f-8e46-9e700dd0d78c",
   "metadata": {},
   "outputs": [],
   "source": []
  },
  {
   "cell_type": "code",
   "execution_count": 10,
   "id": "aabcb246-218e-4255-aeeb-a1598429a4c8",
   "metadata": {},
   "outputs": [],
   "source": [
    "# # try different ways for predict \n",
    "# import tensorflow as tf\n",
    "# import os\n",
    "# import cv2\n",
    "# import numpy as np \n",
    "# from keras.models import load_model \n",
    "\n",
    "# def predict(image_path):\n",
    "#     # read the image path:\n",
    "#     image = cv2.imread(image_path)\n",
    "    \n",
    "#     # resize the image \n",
    "#     resized_image = tf.image.resize(image, (256,256), method='nearest')\n",
    "    \n",
    "#     # after resizing/ scaling / convert image to batch \n",
    "#     model_input_image = np.expand_dims(resized_image/255, 0)\n",
    "    \n",
    "#     # load the saved trianed model \n",
    "#     model = load_model(os.path.join('models','model_vgg16_unbalanced.h5'))\n",
    "    \n",
    "#     # predict process \n",
    "#     result = model.predict(model_input_image)\n",
    "    \n",
    "#     # return value \n",
    "#     return result\n",
    "    \n",
    "# #     # determine the class\n",
    "# #     if result[0].max() == result[0][0]:\n",
    "# #         # return {'class':'CNV','confidence':str(round(result[0].max() * 100,2)) + \"%\"}\n",
    "# #         return \"CNV\"\n",
    "# #     elif result[0].max() == result[0][1]:\n",
    "# #         # return {'class':'DME','confidence':str(round(result[0].max() * 100,2)) + \"%\"}\n",
    "# #         return \"DME\"\n",
    "    \n",
    "# #     elif result[0].max() == result[0][2]:\n",
    "# #         # return {'class':'DRUSEN','confidence':str(round(result[0].max() * 100,2)) + \"%\"}\n",
    "# #         return \"DRUSEN\"\n",
    "    \n",
    "# #     else:\n",
    "# #         # return {'class':'NORMAL','confidence':str(round(result[0].max() * 100,2)) + \"%\"}\n",
    "# #         return \"NORMAL\"\n",
    "\n",
    "\n",
    "\n"
   ]
  },
  {
   "cell_type": "code",
   "execution_count": null,
   "id": "adbea866-8619-4eb0-9c0f-1db7f03c515f",
   "metadata": {},
   "outputs": [],
   "source": []
  },
  {
   "cell_type": "code",
   "execution_count": 11,
   "id": "37cb7e95-b93f-4c84-878a-9229494f0dd1",
   "metadata": {},
   "outputs": [
    {
     "name": "stdout",
     "output_type": "stream",
     "text": [
      "1/1 [==============================] - 0s 138ms/step\n",
      "[[9.8131919e-01 3.3851633e-05 1.8646972e-02 4.3181183e-09]]\n"
     ]
    }
   ],
   "source": [
    "# # normal predict \n",
    "# print(predict(os.path.join(\"test\",\"CNV\",\"CNV-53018-1.jpeg\")))"
   ]
  },
  {
   "cell_type": "code",
   "execution_count": 12,
   "id": "4ed6533f-99c4-4a0b-8d06-d90d55b81a7d",
   "metadata": {},
   "outputs": [
    {
     "name": "stdout",
     "output_type": "stream",
     "text": [
      "1/1 [==============================] - 0s 138ms/step\n",
      "[9.8131919e-01 3.3851633e-05 1.8646972e-02 4.3181183e-09]\n"
     ]
    }
   ],
   "source": [
    "# # with ravel function\n",
    "# print(predict(os.path.join(\"test\",\"CNV\",\"CNV-53018-1.jpeg\")).ravel())"
   ]
  },
  {
   "cell_type": "code",
   "execution_count": 13,
   "id": "57bec70c-fc64-4f38-98ae-0cee0a06cf27",
   "metadata": {},
   "outputs": [
    {
     "name": "stdout",
     "output_type": "stream",
     "text": [
      "1/1 [==============================] - 0s 145ms/step\n"
     ]
    },
    {
     "data": {
      "text/plain": [
       "array([[1.38731409e-07, 9.70307374e-05, 3.49315305e-05, 9.99867916e-01],\n",
       "       [4.00535249e-09, 8.03066432e-15, 1.00000000e+00, 3.26054353e-12],\n",
       "       [1.00000000e+00, 2.91905389e-13, 4.57390271e-11, 1.08952094e-17],\n",
       "       [1.00000000e+00, 1.33403434e-12, 2.08861839e-09, 2.97557558e-14],\n",
       "       [9.95275741e-07, 8.01972021e-07, 4.53165881e-02, 9.54681635e-01],\n",
       "       [7.42345355e-06, 3.34500335e-02, 4.55948029e-04, 9.66086566e-01],\n",
       "       [2.15950608e-12, 9.06126119e-10, 6.04743036e-06, 9.99993920e-01],\n",
       "       [1.10301412e-09, 3.74990697e-16, 1.00000000e+00, 5.46412823e-14],\n",
       "       [9.99999642e-01, 1.46905085e-15, 4.00440797e-07, 3.62406858e-15],\n",
       "       [9.97717857e-01, 2.26875814e-03, 1.33761650e-05, 5.81977133e-08],\n",
       "       [3.47936975e-06, 9.99952674e-01, 2.21075203e-09, 4.38360621e-05],\n",
       "       [1.00000000e+00, 2.17063970e-20, 7.21590959e-14, 2.84820966e-25],\n",
       "       [4.96078990e-02, 8.69225247e-10, 9.50392067e-01, 1.03486819e-09],\n",
       "       [7.43453274e-05, 4.19101953e-09, 9.99925137e-01, 4.36486715e-07],\n",
       "       [9.27349690e-12, 2.16609823e-08, 1.20702933e-03, 9.98792887e-01],\n",
       "       [1.00000000e+00, 5.01683104e-08, 1.01187517e-10, 6.15005616e-12],\n",
       "       [1.39826352e-06, 9.99723852e-01, 3.76867604e-07, 2.74376216e-04],\n",
       "       [3.32514499e-03, 5.52930306e-11, 9.96674895e-01, 2.00560231e-13],\n",
       "       [1.00000000e+00, 5.65443742e-12, 6.07304651e-10, 4.22246178e-15],\n",
       "       [5.69643508e-13, 1.00000000e+00, 3.94178985e-16, 7.99362976e-09],\n",
       "       [5.06751620e-11, 1.65449019e-05, 3.80486796e-07, 9.99983072e-01],\n",
       "       [1.30540014e-08, 2.20925830e-13, 9.99999881e-01, 1.78596025e-07],\n",
       "       [1.08892027e-10, 4.78188162e-16, 1.00000000e+00, 2.79768958e-10],\n",
       "       [2.23042456e-08, 2.74652189e-06, 3.79088888e-04, 9.99618173e-01],\n",
       "       [1.26407247e-19, 1.00000000e+00, 2.55896461e-21, 4.08036201e-14],\n",
       "       [3.78867477e-22, 1.00000000e+00, 5.14967886e-24, 4.61483799e-17],\n",
       "       [2.54695015e-11, 1.00000000e+00, 3.42105549e-13, 3.02073708e-08],\n",
       "       [1.34091571e-10, 1.59071381e-17, 1.00000000e+00, 1.36066737e-16],\n",
       "       [4.21864366e-09, 5.33433786e-06, 5.87366185e-06, 9.99988794e-01],\n",
       "       [1.66185457e-12, 1.95004827e-06, 4.19691908e-08, 9.99998093e-01],\n",
       "       [1.13536458e-04, 1.33279741e-11, 9.99886394e-01, 1.13780751e-12],\n",
       "       [5.30769175e-04, 6.98025804e-11, 9.99469101e-01, 1.64919214e-07]],\n",
       "      dtype=float32)"
      ]
     },
     "execution_count": 13,
     "metadata": {},
     "output_type": "execute_result"
    }
   ],
   "source": [
    "# # test generator \n",
    "# images, labels = test_generator.next()\n",
    "\n",
    "# # load model \n",
    "# model = load_model(os.path.join('models','model_vgg16_unbalanced.h5'))\n",
    "# model.predict(images)"
   ]
  },
  {
   "cell_type": "raw",
   "id": "8c5bf3bf-5243-40ef-8a5e-4f319ee933b2",
   "metadata": {},
   "source": [
    "- we use roc_curve to get the fpr and tpr the x and y axis of the roc_curve \n",
    "- use them to draw the roc curve --> plot \n",
    "- use them to calculate the auc --> auc function \n",
    "- "
   ]
  },
  {
   "cell_type": "code",
   "execution_count": 14,
   "id": "dad939d9-3ac3-4404-96af-19eefa06d90e",
   "metadata": {},
   "outputs": [],
   "source": [
    "# from sklearn.metrics import roc_auc_score, RocCurveDisplay, roc_curve, auc\n",
    "# fpr, tpr, thresholds = roc_curve(all_actual_y, all_predicted_y)\n",
    "# # auc_keras = auc(fpr_keras, tpr_keras)\n",
    "\n"
   ]
  },
  {
   "cell_type": "code",
   "execution_count": null,
   "id": "f026e527-5731-476c-a360-d3c9372a7d2d",
   "metadata": {},
   "outputs": [],
   "source": []
  },
  {
   "cell_type": "code",
   "execution_count": null,
   "id": "b13007e3-1809-459e-82c8-51c12c3bcf92",
   "metadata": {},
   "outputs": [],
   "source": []
  },
  {
   "cell_type": "code",
   "execution_count": 15,
   "id": "d539f0b7-b46e-447b-a856-bb0c832cba4d",
   "metadata": {},
   "outputs": [
    {
     "name": "stdout",
     "output_type": "stream",
     "text": [
      "<class 'pandas.io.pytables.HDFStore'>\n",
      "File path: stema_deployment.h5\n",
      "\n"
     ]
    }
   ],
   "source": [
    "# # # \"write\"\n",
    "# with pd.HDFStore('stema_deployment.h5',  mode='w') as model:\n",
    "#     print(model)\n",
    "\n",
    "# # # \"read\"\n",
    "# # with pd.HDFStore('test.h5',  mode='r') as newstore:\n",
    "# #     df_restored = newstore.select('df')"
   ]
  },
  {
   "cell_type": "code",
   "execution_count": 16,
   "id": "b9de868d-260c-4306-8a90-dd3666ee5fb8",
   "metadata": {},
   "outputs": [],
   "source": [
    "# model=pd.HDFStore('stema_deployment.h5',\"r\")\n"
   ]
  },
  {
   "cell_type": "code",
   "execution_count": null,
   "id": "974318fa-f6f8-445c-aea6-fd3b567e34de",
   "metadata": {},
   "outputs": [],
   "source": []
  },
  {
   "cell_type": "code",
   "execution_count": null,
   "id": "3d7dc42a-0926-4601-88a1-20459d00bc59",
   "metadata": {},
   "outputs": [],
   "source": []
  },
  {
   "cell_type": "code",
   "execution_count": null,
   "id": "143ecb5d-2596-4e9c-a05f-61b77be81fc9",
   "metadata": {},
   "outputs": [],
   "source": []
  },
  {
   "cell_type": "code",
   "execution_count": null,
   "id": "cce9c5b0-f06f-4c48-8229-26d0058320d5",
   "metadata": {},
   "outputs": [],
   "source": []
  },
  {
   "cell_type": "code",
   "execution_count": null,
   "id": "d62904c1-dcda-4abd-a096-fc9fa3d9bfc0",
   "metadata": {},
   "outputs": [],
   "source": []
  },
  {
   "cell_type": "code",
   "execution_count": null,
   "id": "bc6c7fc5-99da-498b-8722-ffaef2c14a51",
   "metadata": {},
   "outputs": [],
   "source": []
  },
  {
   "cell_type": "code",
   "execution_count": 17,
   "id": "65376878-4003-4fc9-bce4-a3266fb837a5",
   "metadata": {},
   "outputs": [
    {
     "name": "stdout",
     "output_type": "stream",
     "text": [
      "1000\n"
     ]
    }
   ],
   "source": [
    "l = [2, 1, 2, 3, 2, 1, 3, 1, 3, 2, 2, 1, 3, 2, 3, 1, 2, 3, 0, 1, 3, 2, 3, 0, 2, 0, 2, 3, 1, 1, 0, 2, 3, 0, 3, 3, 1, 1, 1, 0, 3, 3, 3, 1, 1, 3, 2, 2, 0, 1, 0, 1, 1, 1, 1, 2, 2, 3, 3, 3, 0, 1, 3, 3, 3, 3, 1, 0, 2, 0, 1, 0, 0, 0, 2, 1, 2, 0, 0, 3, 0, 0, 3, 2, 3, 3, 0, 1, 3, 0, 2, 1, 1, 2, 0, 0, 2, 3, 0, 0, 2, 0, 0, 1, 1, 1, 3, 2, 2, 2, 1, 2, 2, 3, 3, 0, 0, 3, 0, 1, 2, 1, 1, 0, 0, 0, 1, 2, 1, 3, 0, 2, 0, 2, 1, 0, 2, 0, 1, 3, 1, 3, 2, 1, 2, 0, 3, 3, 0, 3, 1, 3, 2, 0, 2, 1, 3, 1, 1, 3, 0, 2, 2, 2, 2, 0, 2, 0, 2, 3, 0, 1, 1, 3, 3, 2, 3, 1, 3, 0, 3, 2, 0, 3, 1, 1, 2, 0, 1, 2, 2, 2, 1, 3, 0, 2, 1, 2, 2, 3, 2, 1, 0, 0, 1, 0, 3, 0, 2, 1, 1, 1, 0, 3, 1, 0, 3, 0, 0, 1, 0, 3, 2, 2, 3, 1, 0, 0, 1, 0, 2, 1, 3, 1, 3, 2, 3, 3, 1, 1, 3, 0, 0, 0, 1, 1, 2, 3, 2, 3, 3, 0, 0, 3, 1, 1, 2, 1, 3, 2, 0, 1, 0, 3, 2, 3, 2, 2, 2, 3, 1, 3, 2, 2, 1, 1, 2, 1, 1, 2, 2, 3, 0, 1, 3, 0, 1, 1, 0, 3, 3, 2, 1, 3, 1, 2, 2, 0, 2, 3, 2, 3, 2, 1, 2, 2, 0, 0, 2, 3, 1, 0, 3, 2, 2, 0, 2, 0, 3, 0, 3, 1, 3, 2, 2, 1, 3, 3, 3, 2, 2, 2, 1, 1, 0, 0, 0, 1, 0, 0, 2, 3, 2, 1, 2, 1, 3, 3, 1, 2, 3, 1, 1, 2, 0, 1, 0, 1, 3, 0, 0, 3, 0, 1, 0, 1, 1, 2, 0, 2, 0, 0, 2, 2, 3, 2, 3, 1, 3, 1, 3, 3, 1, 1, 1, 1, 0, 3, 1, 3, 3, 2, 0, 0, 1, 1, 1, 0, 1, 1, 0, 0, 3, 1, 3, 3, 2, 1, 0, 2, 1, 2, 3, 2, 3, 1, 1, 3, 1, 3, 3, 3, 2, 0, 0, 2, 1, 0, 0, 3, 1, 2, 2, 2, 0, 3, 0, 1, 1, 2, 2, 2, 2, 3, 1, 0, 0, 1, 0, 0, 1, 3, 0, 1, 3, 1, 2, 1, 1, 0, 0, 2, 1, 2, 1, 1, 1, 3, 2, 3, 1, 1, 2, 1, 0, 1, 1, 1, 1, 2, 3, 3, 0, 0, 3, 3, 3, 2, 2, 2, 0, 0, 3, 0, 1, 0, 0, 0, 3, 0, 1, 1, 2, 2, 2, 0, 0, 1, 3, 2, 3, 0, 0, 0, 0, 0, 0, 0, 1, 2, 2, 0, 1, 2, 1, 0, 1, 2, 1, 1, 0, 1, 0, 2, 3, 3, 1, 3, 1, 0, 2, 0, 1, 3, 3, 2, 2, 2, 1, 3, 1, 1, 2, 0, 0, 0, 2, 0, 3, 0, 0, 2, 2, 3, 0, 3, 3, 0, 2, 1, 3, 3, 3, 3, 0, 2, 3, 2, 2, 2, 0, 2, 3, 0, 2, 3, 2, 1, 0, 1, 3, 2, 0, 2, 0, 0, 0, 3, 1, 0, 3, 0, 2, 2, 1, 1, 1, 0, 0, 3, 1, 3, 0, 2, 2, 2, 2, 3, 0, 2, 3, 1, 1, 0, 1, 0, 2, 0, 1, 3, 0, 0, 2, 3, 0, 2, 0, 3, 0, 0, 0, 2, 1, 2, 1, 0, 1, 2, 0, 3, 1, 0, 2, 1, 3, 0, 3, 3, 3, 1, 1, 3, 1, 0, 1, 3, 2, 2, 0, 0, 1, 2, 0, 1, 3, 1, 2, 3, 0, 1, 3, 1, 0, 2, 1, 1, 3, 2, 1, 0, 1, 1, 3, 3, 3, 3, 0, 0, 2, 2, 1, 3, 0, 0, 0, 1, 2, 3, 2, 0, 2, 1, 1, 1, 3, 0, 3, 1, 2, 0, 1, 3, 1, 0, 3, 0, 1, 2, 2, 1, 1, 0, 0, 1, 1, 1, 1, 2, 2, 1, 3, 1, 3, 1, 0, 3, 2, 2, 2, 3, 3, 2, 1, 1, 3, 1, 1, 3, 2, 2, 0, 3, 1, 1, 2, 2, 2, 3, 2, 2, 3, 2, 2, 2, 0, 2, 2, 2, 3, 0, 0, 1, 1, 2, 3, 3, 1, 2, 3, 3, 3, 0, 3, 1, 0, 0, 3, 1, 0, 1, 3, 2, 0, 1, 2, 2, 0, 0, 1, 3, 0, 2, 3, 2, 3, 2, 3, 0, 0, 0, 0, 0, 0, 2, 0, 2, 2, 1, 3, 3, 0, 2, 0, 1, 1, 2, 2, 1, 0, 1, 2, 0, 1, 3, 2, 2, 3, 0, 3, 3, 1, 3, 3, 1, 2, 2, 2, 3, 2, 3, 2, 2, 3, 2, 3, 1, 3, 2, 0, 3, 3, 0, 2, 3, 3, 3, 3, 2, 3, 1, 0, 0, 1, 0, 1, 1, 2, 1, 3, 0, 2, 3, 3, 3, 2, 2, 1, 3, 2, 0, 0, 2, 2, 3, 0, 2, 0, 0, 1, 2, 2, 3, 2, 3, 2, 0, 3, 3, 3, 3, 1, 2, 3, 2, 0, 3, 1, 0, 3, 2, 2, 1, 2, 1, 3, 0, 0, 0, 0, 3, 2, 1, 3, 3, 0, 1, 0, 1, 2, 3, 1, 1, 1, 2, 3, 2, 0, 2, 2, 3, 1, 2, 0, 1, 1, 3, 0, 0, 2, 3, 0, 3, 2, 0, 3, 3, 0, 1, 3, 1, 1, 0, 0, 2, 3, 0, 3, 3, 0, 1, 3, 3, 0, 0, 0, 2, 3, 3, 1, 0]\n",
    "print(len(l))"
   ]
  },
  {
   "cell_type": "code",
   "execution_count": null,
   "id": "b27055fa-fcbe-43ca-b1f5-e36a616a2035",
   "metadata": {},
   "outputs": [],
   "source": []
  },
  {
   "cell_type": "code",
   "execution_count": null,
   "id": "9b7ae517-8cb2-4f29-81be-ad1033f42dde",
   "metadata": {},
   "outputs": [],
   "source": []
  },
  {
   "cell_type": "code",
   "execution_count": null,
   "id": "f5158b8d-b5d0-485e-a355-6162b5def2ef",
   "metadata": {},
   "outputs": [],
   "source": []
  },
  {
   "cell_type": "code",
   "execution_count": null,
   "id": "ddd41807-991e-4102-96c0-a8df925e0590",
   "metadata": {},
   "outputs": [],
   "source": []
  },
  {
   "cell_type": "code",
   "execution_count": null,
   "id": "2647e544-484d-468d-b266-3cb09b39a46c",
   "metadata": {},
   "outputs": [],
   "source": []
  },
  {
   "cell_type": "code",
   "execution_count": null,
   "id": "b6ebaebf-f8aa-4ec2-b9a9-96e397721ba2",
   "metadata": {},
   "outputs": [],
   "source": []
  },
  {
   "cell_type": "code",
   "execution_count": null,
   "id": "0f93225f-ef6d-475b-b3ab-0ed225e62f0f",
   "metadata": {},
   "outputs": [],
   "source": []
  },
  {
   "cell_type": "code",
   "execution_count": null,
   "id": "29a3f125-8710-4422-a4e2-f16d4c9d9901",
   "metadata": {},
   "outputs": [],
   "source": []
  },
  {
   "cell_type": "code",
   "execution_count": null,
   "id": "fe646d57-d66a-458d-b2b2-218ada2ede56",
   "metadata": {},
   "outputs": [],
   "source": []
  },
  {
   "cell_type": "code",
   "execution_count": null,
   "id": "aac81e2f-c0dc-4182-ada4-f41a53bae03b",
   "metadata": {},
   "outputs": [],
   "source": []
  },
  {
   "cell_type": "code",
   "execution_count": null,
   "id": "e131758f-d57c-469b-bd05-31d47dc12595",
   "metadata": {},
   "outputs": [],
   "source": []
  },
  {
   "cell_type": "code",
   "execution_count": null,
   "id": "962007de-13ce-4c10-949c-080a3905c826",
   "metadata": {},
   "outputs": [],
   "source": []
  },
  {
   "cell_type": "code",
   "execution_count": null,
   "id": "555d677a-59dd-4dcb-9a82-874179f473c3",
   "metadata": {},
   "outputs": [],
   "source": []
  },
  {
   "cell_type": "code",
   "execution_count": null,
   "id": "5409f66c-cbf2-48a4-bb84-d9ec379db760",
   "metadata": {},
   "outputs": [],
   "source": []
  },
  {
   "cell_type": "code",
   "execution_count": null,
   "id": "7a0d8ea4-0212-4979-8ae2-84c072e6f21e",
   "metadata": {},
   "outputs": [],
   "source": []
  },
  {
   "cell_type": "code",
   "execution_count": null,
   "id": "8670cc8e-4d99-48cd-9d7c-4c78238df1ba",
   "metadata": {},
   "outputs": [],
   "source": []
  },
  {
   "cell_type": "code",
   "execution_count": null,
   "id": "4adbf228-3735-43a0-9c7e-8ccb247d8360",
   "metadata": {},
   "outputs": [],
   "source": []
  },
  {
   "cell_type": "code",
   "execution_count": null,
   "id": "cfcbe9d7-2954-46bc-80d5-a642bbfd0999",
   "metadata": {},
   "outputs": [],
   "source": []
  },
  {
   "cell_type": "code",
   "execution_count": null,
   "id": "0d563ca4-1da4-42b7-9eec-a6f1e5cdc152",
   "metadata": {},
   "outputs": [],
   "source": []
  },
  {
   "cell_type": "code",
   "execution_count": null,
   "id": "29310b3c-fa79-4392-891b-6c4a981e6e43",
   "metadata": {},
   "outputs": [],
   "source": []
  },
  {
   "cell_type": "code",
   "execution_count": null,
   "id": "0e1a8436-e13a-464b-933b-00ca5f693223",
   "metadata": {},
   "outputs": [],
   "source": []
  },
  {
   "cell_type": "code",
   "execution_count": null,
   "id": "d931b778-17c3-4d3d-87a1-dc6b23377a29",
   "metadata": {},
   "outputs": [],
   "source": []
  },
  {
   "cell_type": "code",
   "execution_count": null,
   "id": "18428fb8-c67f-49a9-87a2-b6c6ac54d64a",
   "metadata": {},
   "outputs": [],
   "source": []
  },
  {
   "cell_type": "code",
   "execution_count": null,
   "id": "b742ac0a-31bb-432e-9bd6-1a3c64f0806f",
   "metadata": {},
   "outputs": [],
   "source": []
  },
  {
   "cell_type": "code",
   "execution_count": null,
   "id": "68793660-5575-4d86-a144-b371a81ffe11",
   "metadata": {},
   "outputs": [],
   "source": []
  },
  {
   "cell_type": "code",
   "execution_count": null,
   "id": "7bf99c7c-04f5-4848-bbc4-70d138368596",
   "metadata": {},
   "outputs": [],
   "source": []
  },
  {
   "cell_type": "code",
   "execution_count": null,
   "id": "940bd74f-794f-429e-ba25-3a58304bb5ed",
   "metadata": {},
   "outputs": [],
   "source": []
  },
  {
   "cell_type": "code",
   "execution_count": null,
   "id": "26f7deab-21e8-4db0-bad8-a6cd0c240386",
   "metadata": {},
   "outputs": [],
   "source": []
  },
  {
   "cell_type": "code",
   "execution_count": null,
   "id": "226d7918-8a18-4b1f-8812-c5e3caa2a710",
   "metadata": {},
   "outputs": [],
   "source": []
  },
  {
   "cell_type": "code",
   "execution_count": null,
   "id": "f9ba45bc-b209-466a-9957-88e77b1c6cae",
   "metadata": {},
   "outputs": [],
   "source": []
  },
  {
   "cell_type": "code",
   "execution_count": null,
   "id": "2eca3f86-703a-4261-ac1f-41982c8ad1e7",
   "metadata": {},
   "outputs": [],
   "source": []
  },
  {
   "cell_type": "code",
   "execution_count": null,
   "id": "fbd33dc7-b52b-4bca-9624-7718ec6303cc",
   "metadata": {},
   "outputs": [],
   "source": []
  },
  {
   "cell_type": "code",
   "execution_count": null,
   "id": "73c3b5e8-7bd2-41b5-9c13-eb304eb18817",
   "metadata": {},
   "outputs": [],
   "source": []
  },
  {
   "cell_type": "code",
   "execution_count": null,
   "id": "15d88d56-c430-4a98-b0f2-0db392f45013",
   "metadata": {},
   "outputs": [],
   "source": []
  },
  {
   "cell_type": "code",
   "execution_count": null,
   "id": "d4609ea1-76e6-4c60-a327-54b2e43ca77a",
   "metadata": {},
   "outputs": [],
   "source": []
  },
  {
   "cell_type": "code",
   "execution_count": null,
   "id": "dee68508-3f53-4d1c-b217-da004dc943e0",
   "metadata": {},
   "outputs": [],
   "source": []
  },
  {
   "cell_type": "code",
   "execution_count": null,
   "id": "70263f32-a505-4e47-a9bd-64e1cf078ce1",
   "metadata": {},
   "outputs": [],
   "source": []
  },
  {
   "cell_type": "code",
   "execution_count": null,
   "id": "a186e1f5-083d-495a-a727-2b29d4246700",
   "metadata": {},
   "outputs": [],
   "source": []
  },
  {
   "cell_type": "code",
   "execution_count": null,
   "id": "ad811838-034e-425c-9350-86dacbeed1c8",
   "metadata": {},
   "outputs": [],
   "source": []
  },
  {
   "cell_type": "code",
   "execution_count": null,
   "id": "389c31f9-6bb2-4a71-9b92-026e2bd452a2",
   "metadata": {},
   "outputs": [],
   "source": []
  },
  {
   "cell_type": "code",
   "execution_count": null,
   "id": "f3714214-8ff7-41bb-8c82-bf6127598e29",
   "metadata": {},
   "outputs": [],
   "source": []
  }
 ],
 "metadata": {
  "kernelspec": {
   "display_name": "Python 3 (ipykernel)",
   "language": "python",
   "name": "python3"
  },
  "language_info": {
   "codemirror_mode": {
    "name": "ipython",
    "version": 3
   },
   "file_extension": ".py",
   "mimetype": "text/x-python",
   "name": "python",
   "nbconvert_exporter": "python",
   "pygments_lexer": "ipython3",
   "version": "3.9.13"
  }
 },
 "nbformat": 4,
 "nbformat_minor": 5
}

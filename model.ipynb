{
 "cells": [
  {
   "cell_type": "code",
   "execution_count": 1,
   "id": "badd8132-b82e-4781-931a-ebf42d63e26a",
   "metadata": {},
   "outputs": [],
   "source": [
    "# we wiil go through data --> model --> train --> test --> confusion matrix\n",
    "\n",
    "# libraries we will want \n",
    "from tensorflow.keras.applications import * \n",
    "from tensorflow.keras import models\n",
    "from tensorflow.keras import layers\n",
    "from keras.preprocessing.image import ImageDataGenerator\n",
    "import os\n",
    "import shutil\n",
    "import pandas as pd\n",
    "from sklearn import model_selection\n",
    "from tqdm import tqdm\n",
    "from tensorflow.keras import optimizers\n",
    "import tensorflow as tf\n",
    "import matplotlib.pyplot as plt\n",
    "\n",
    "# use gpu instead of cpu \n",
    "my_gpu = tf.config.experimental.list_physical_devices('GPU')[0]\n",
    "\n",
    "# avoid oom error \n",
    "tf.config.experimental.set_memory_growth(my_gpu,True)"
   ]
  },
  {
   "cell_type": "code",
   "execution_count": 3,
   "id": "80e799e8-72a9-4c5b-93e3-4b2872451966",
   "metadata": {},
   "outputs": [
    {
     "name": "stdout",
     "output_type": "stream",
     "text": [
      "Found 83436 images belonging to 4 classes.\n",
      "Found 1000 images belonging to 4 classes.\n",
      "Found 24 images belonging to 4 classes.\n"
     ]
    }
   ],
   "source": [
    "import os\n",
    "\n",
    "train_dir = os.path.join(\"train\") \n",
    "\n",
    "test_dir = os.path.join(\"test\") \n",
    "\n",
    "val_dir = os.path.join(\"validation\") \n",
    "\n",
    "train_datagen = ImageDataGenerator(rescale = 1./255)\n",
    "train_generator = train_datagen.flow_from_directory(train_dir, target_size = (256, 256), batch_size = 32)\n",
    "\n",
    "test_datagen = ImageDataGenerator(rescale = 1./255)\n",
    "test_generator = test_datagen.flow_from_directory(test_dir, target_size = (256, 256), batch_size = 32)\n",
    "\n",
    "validation_datagen = ImageDataGenerator(rescale = 1./255)\n",
    "validation_generator = validation_datagen.flow_from_directory(val_dir, target_size = (256, 256), batch_size = 32)"
   ]
  },
  {
   "cell_type": "code",
   "execution_count": 4,
   "id": "db8f7464-d0ee-453c-8fc3-0d4c45381bb1",
   "metadata": {},
   "outputs": [],
   "source": [
    "vgg_16 = tf.keras.applications.VGG16(\n",
    "    include_top = False, \n",
    "    weights = 'imagenet', \n",
    "    input_shape = (256,256,3), \n",
    ")"
   ]
  },
  {
   "cell_type": "code",
   "execution_count": 5,
   "id": "c3b1aa5f-3902-4634-81bd-4ad549769e91",
   "metadata": {},
   "outputs": [],
   "source": [
    "vgg_16.trainable = False\n",
    "\n",
    "model_vgg = tf.keras.models.Sequential([\n",
    "    vgg_16,\n",
    "    tf.keras.layers.Conv2D(128, kernel_size = (3, 3), padding = 'same'),\n",
    "    tf.keras.layers.PReLU(alpha_initializer='zeros'),# modifying final layers of VGG-16\n",
    "    tf.keras.layers.Conv2D(64, kernel_size = (3, 3), padding = 'same'),\n",
    "    tf.keras.layers.PReLU(alpha_initializer='zeros'),\n",
    "    tf.keras.layers.Flatten(),\n",
    "    tf.keras.layers.Dense(100),\n",
    "    tf.keras.layers.PReLU(alpha_initializer='zeros'),\n",
    "    tf.keras.layers.Dense(4, activation = 'softmax')\n",
    "])"
   ]
  },
  {
   "cell_type": "code",
   "execution_count": 6,
   "id": "ceb20463-9fef-4cbc-b804-c9db7dd0a097",
   "metadata": {},
   "outputs": [],
   "source": [
    "metrics = ['accuracy',\n",
    "                tf.keras.metrics.AUC(),\n",
    "                tf.keras.metrics.Precision(), \n",
    "                tf.keras.metrics.Recall()]"
   ]
  },
  {
   "cell_type": "code",
   "execution_count": 7,
   "id": "cf23398c-69f4-4b9c-88b0-3651404c4e7a",
   "metadata": {},
   "outputs": [
    {
     "name": "stdout",
     "output_type": "stream",
     "text": [
      "Model: \"sequential\"\n",
      "_________________________________________________________________\n",
      " Layer (type)                Output Shape              Param #   \n",
      "=================================================================\n",
      " vgg16 (Functional)          (None, 8, 8, 512)         14714688  \n",
      "                                                                 \n",
      " conv2d (Conv2D)             (None, 8, 8, 128)         589952    \n",
      "                                                                 \n",
      " p_re_lu (PReLU)             (None, 8, 8, 128)         8192      \n",
      "                                                                 \n",
      " conv2d_1 (Conv2D)           (None, 8, 8, 64)          73792     \n",
      "                                                                 \n",
      " p_re_lu_1 (PReLU)           (None, 8, 8, 64)          4096      \n",
      "                                                                 \n",
      " flatten (Flatten)           (None, 4096)              0         \n",
      "                                                                 \n",
      " dense (Dense)               (None, 100)               409700    \n",
      "                                                                 \n",
      " p_re_lu_2 (PReLU)           (None, 100)               100       \n",
      "                                                                 \n",
      " dense_1 (Dense)             (None, 4)                 404       \n",
      "                                                                 \n",
      "=================================================================\n",
      "Total params: 15,800,924\n",
      "Trainable params: 1,086,236\n",
      "Non-trainable params: 14,714,688\n",
      "_________________________________________________________________\n"
     ]
    }
   ],
   "source": [
    "model_vgg.compile(loss = 'categorical_crossentropy', optimizer = 'adam', metrics = metrics)\n",
    "model_vgg.summary()"
   ]
  },
  {
   "cell_type": "code",
   "execution_count": 8,
   "id": "f1102bde-0a46-4b16-bc4c-bbd0677cfe78",
   "metadata": {
    "scrolled": true,
    "tags": []
   },
   "outputs": [],
   "source": [
    "# train : \n",
    "logdir='logs'\n",
    "\n",
    "# we do something like check point for us to return back to a specific location \n",
    "tensorboard_callback = tf.keras.callbacks.TensorBoard(log_dir=logdir)\n",
    "\n",
    "# train \n",
    "hist = model_vgg.fit(train_generator, epochs=30, validation_data=validation_generator, callbacks=[tensorboard_callback])"
   ]
  },
  {
   "cell_type": "code",
   "execution_count": 9,
   "id": "20134cdb-e54b-489b-9a42-cceeb32e843a",
   "metadata": {},
   "outputs": [],
   "source": [
    "model_vgg.save(os.path.join(\"models\",\"model_vgg16_unbalanced.h5\"))"
   ]
  },
  {
   "cell_type": "code",
   "execution_count": null,
   "id": "4229ee22-5d7b-4937-a259-e93f1331f605",
   "metadata": {},
   "outputs": [],
   "source": []
  }
 ],
 "metadata": {
  "kernelspec": {
   "display_name": "Python 3 (ipykernel)",
   "language": "python",
   "name": "python3"
  },
  "language_info": {
   "codemirror_mode": {
    "name": "ipython",
    "version": 3
   },
   "file_extension": ".py",
   "mimetype": "text/x-python",
   "name": "python",
   "nbconvert_exporter": "python",
   "pygments_lexer": "ipython3",
   "version": "3.9.13"
  },
  "vscode": {
   "interpreter": {
    "hash": "5addf786bcd861d1ce5006f23111f8cbb206731e5b61b0a5632ba9e0252558a8"
   }
  }
 },
 "nbformat": 4,
 "nbformat_minor": 5
}
